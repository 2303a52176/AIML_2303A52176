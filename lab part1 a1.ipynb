{
  "nbformat": 4,
  "nbformat_minor": 0,
  "metadata": {
    "colab": {
      "provenance": [],
      "authorship_tag": "ABX9TyNNUZuZQk9l1PgRQKSyOJgL",
      "include_colab_link": true
    },
    "kernelspec": {
      "name": "python3",
      "display_name": "Python 3"
    },
    "language_info": {
      "name": "python"
    }
  },
  "cells": [
    {
      "cell_type": "markdown",
      "metadata": {
        "id": "view-in-github",
        "colab_type": "text"
      },
      "source": [
        "<a href=\"https://colab.research.google.com/github/2303a52176/AIML_2303A52176/blob/main/lab%20part1%20a1.ipynb\" target=\"_parent\"><img src=\"https://colab.research.google.com/assets/colab-badge.svg\" alt=\"Open In Colab\"/></a>"
      ]
    },
    {
      "cell_type": "markdown",
      "source": [
        "Lists and Arrays"
      ],
      "metadata": {
        "id": "yKQif-4dZPJ9"
      }
    },
    {
      "cell_type": "code",
      "source": [
        "import numpy as np\n",
        "list1 = [5,6,7]\n",
        "array1=np.array(list1)\n",
        "array1"
      ],
      "metadata": {
        "colab": {
          "base_uri": "https://localhost:8080/"
        },
        "id": "hgjCK1kvZYEV",
        "outputId": "ea2de2a5-3742-4510-8ac1-c91a9efcd023"
      },
      "execution_count": 20,
      "outputs": [
        {
          "output_type": "execute_result",
          "data": {
            "text/plain": [
              "array([5, 6, 7])"
            ]
          },
          "metadata": {},
          "execution_count": 20
        }
      ]
    },
    {
      "cell_type": "markdown",
      "source": [
        "Identify their type using type()"
      ],
      "metadata": {
        "id": "1HX5x4iYZtol"
      }
    },
    {
      "cell_type": "code",
      "source": [
        "type(list1)"
      ],
      "metadata": {
        "colab": {
          "base_uri": "https://localhost:8080/"
        },
        "id": "DUzakAxBZxCd",
        "outputId": "2411a60d-48af-4395-b0ea-4fd5b45c649b"
      },
      "execution_count": 21,
      "outputs": [
        {
          "output_type": "execute_result",
          "data": {
            "text/plain": [
              "list"
            ]
          },
          "metadata": {},
          "execution_count": 21
        }
      ]
    },
    {
      "cell_type": "code",
      "source": [
        "type(array1)"
      ],
      "metadata": {
        "colab": {
          "base_uri": "https://localhost:8080/"
        },
        "id": "tsTPJtnsZ9z9",
        "outputId": "2d026dc4-6965-4e5d-8d61-e07b7e155f17"
      },
      "execution_count": 22,
      "outputs": [
        {
          "output_type": "execute_result",
          "data": {
            "text/plain": [
              "numpy.ndarray"
            ]
          },
          "metadata": {},
          "execution_count": 22
        }
      ]
    },
    {
      "cell_type": "markdown",
      "source": [
        "SECOND ARRAY"
      ],
      "metadata": {
        "id": "I2IC9C6DdPlu"
      }
    },
    {
      "cell_type": "code",
      "source": [
        "import numpy as np\n",
        "list2=[1,2,3]\n",
        "array2=np.array(list2)\n",
        "array2"
      ],
      "metadata": {
        "colab": {
          "base_uri": "https://localhost:8080/"
        },
        "id": "ANgl5LLidLnG",
        "outputId": "fb7d7a44-22d7-413d-ca05-df496d930201"
      },
      "execution_count": 23,
      "outputs": [
        {
          "output_type": "execute_result",
          "data": {
            "text/plain": [
              "array([1, 2, 3])"
            ]
          },
          "metadata": {},
          "execution_count": 23
        }
      ]
    },
    {
      "cell_type": "markdown",
      "source": [
        "Perform mathematical operations on these datasets created - multiplication, division,\n",
        "powerof"
      ],
      "metadata": {
        "id": "bMKLykI8aD89"
      }
    },
    {
      "cell_type": "code",
      "source": [
        "print(\"multiplication of array1 & list1\" ,array1*list1)\n",
        "print(\"division of array1 on list1\" ,array1/list1)\n",
        "print(\"powerof of array1 on list1 \",array1**list1)"
      ],
      "metadata": {
        "colab": {
          "base_uri": "https://localhost:8080/"
        },
        "id": "5NO710SzaH29",
        "outputId": "7d68ac26-f6e0-4b2c-886e-58dbf5e4c941"
      },
      "execution_count": 25,
      "outputs": [
        {
          "output_type": "stream",
          "name": "stdout",
          "text": [
            "multiplication of array1 & list1 [25 36 49]\n",
            "division of array1 on list1 [1. 1. 1.]\n",
            "powerof of array1 on list1  [  3125  46656 823543]\n"
          ]
        }
      ]
    },
    {
      "cell_type": "markdown",
      "source": [
        " Implement np.sin(), log(), log2(), np.exp())"
      ],
      "metadata": {
        "id": "RJu713YUbVul"
      }
    },
    {
      "cell_type": "code",
      "source": [
        "#sin\n",
        "print(\"sin:\",np.sin(array1))\n",
        "#logorithm\n",
        "print(\"natureal logrthim\",np.log(array1))\n",
        "print(\"base 2 logarithm\",np.log2(array1))\n",
        "print(\"base 10 logarithm\",np.log10(array1))\n",
        "#exponential\n",
        "print(\"exponential\",np.exp(array1))"
      ],
      "metadata": {
        "colab": {
          "base_uri": "https://localhost:8080/"
        },
        "id": "iL6bPV7obZfm",
        "outputId": "79a55ff2-8976-477d-faba-6bf8fefd8c55"
      },
      "execution_count": 26,
      "outputs": [
        {
          "output_type": "stream",
          "name": "stdout",
          "text": [
            "sin: [-0.95892427 -0.2794155   0.6569866 ]\n",
            "natureal logrthim [1.60943791 1.79175947 1.94591015]\n",
            "base 2 logarithm [2.32192809 2.5849625  2.80735492]\n",
            "base 10 logarithm [0.69897    0.77815125 0.84509804]\n",
            "exponential [ 148.4131591   403.42879349 1096.63315843]\n"
          ]
        }
      ]
    },
    {
      "cell_type": "markdown",
      "source": [
        "Combine text with Numpy fuction to generate a textual output - ”Addition of Two:\n",
        "array1 +array 2"
      ],
      "metadata": {
        "id": "Opfstnx4cf2V"
      }
    },
    {
      "cell_type": "code",
      "source": [
        "print(\"addation of two numpy arrays {array1} anbd {array2} together\",array1+array2)"
      ],
      "metadata": {
        "colab": {
          "base_uri": "https://localhost:8080/"
        },
        "id": "0bvqKCGhcgAt",
        "outputId": "ac14b251-d9bf-4b1a-e856-0d610d76fdbb"
      },
      "execution_count": 30,
      "outputs": [
        {
          "output_type": "stream",
          "name": "stdout",
          "text": [
            "addation of two numpy arrays {array1} anbd {array2} together [ 6  8 10]\n"
          ]
        }
      ]
    },
    {
      "cell_type": "code",
      "source": [
        "print(f\"Addition of two numpy arrays [array1] and [array2] together: {array1 + array2}\")"
      ],
      "metadata": {
        "colab": {
          "base_uri": "https://localhost:8080/"
        },
        "id": "rzczbRv6c3jH",
        "outputId": "2c09a769-6553-4f67-869a-a94c427c72c0"
      },
      "execution_count": 31,
      "outputs": [
        {
          "output_type": "stream",
          "name": "stdout",
          "text": [
            "Addition of two numpy arrays [array1] and [array2] together: [ 6  8 10]\n"
          ]
        }
      ]
    }
  ]
}
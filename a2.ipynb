{
  "nbformat": 4,
  "nbformat_minor": 0,
  "metadata": {
    "colab": {
      "provenance": [],
      "authorship_tag": "ABX9TyP4z2+WX4ZyZobkHzfYRYpG",
      "include_colab_link": true
    },
    "kernelspec": {
      "name": "python3",
      "display_name": "Python 3"
    },
    "language_info": {
      "name": "python"
    }
  },
  "cells": [
    {
      "cell_type": "markdown",
      "metadata": {
        "id": "view-in-github",
        "colab_type": "text"
      },
      "source": [
        "<a href=\"https://colab.research.google.com/github/2303a52176/AIML_2303A52176/blob/main/a2.ipynb\" target=\"_parent\"><img src=\"https://colab.research.google.com/assets/colab-badge.svg\" alt=\"Open In Colab\"/></a>"
      ]
    },
    {
      "cell_type": "markdown",
      "source": [
        "# - Implement Breadth First, Depth First and A* Search Algorithms"
      ],
      "metadata": {
        "id": "CxC9umCzVbUR"
      }
    },
    {
      "cell_type": "markdown",
      "source": [
        "Part 1 – Implement Breadth First Search Algorithm using a Queue"
      ],
      "metadata": {
        "id": "umL187TTVg-4"
      }
    },
    {
      "cell_type": "code",
      "source": [
        "from queue import Queue\n",
        "\n",
        "graph = {0: [1, 3], 1: [0, 2, 3], 2: [1, 4, 5], 3: [0, 1, 4], 4: [2, 3, 5], 5: [2, 4]}\n",
        "\n",
        "def bfs(graph, source):\n",
        "    Q = Queue()\n",
        "    visited_vertices = set()\n",
        "\n",
        "    Q.put(source)\n",
        "    visited_vertices.update({source})\n",
        "\n",
        "    while not Q.empty():\n",
        "        vertex = Q.get()\n",
        "        print(vertex, end=\" --> \")\n",
        "\n",
        "        for u in graph[vertex]:\n",
        "            if u not in visited_vertices:\n",
        "                Q.put(u)\n",
        "                visited_vertices.update({u})\n",
        "\n",
        "print(\"BFS traversal of graph with source 0 is:\")\n",
        "bfs(graph, 1)\n"
      ],
      "metadata": {
        "colab": {
          "base_uri": "https://localhost:8080/"
        },
        "id": "QwViv5fqVuy-",
        "outputId": "44a36260-3d75-4151-fb5d-4f58c4106e3f"
      },
      "execution_count": 9,
      "outputs": [
        {
          "output_type": "stream",
          "name": "stdout",
          "text": [
            "BFS traversal of graph with source 0 is:\n",
            "1 --> 0 --> 2 --> 3 --> 4 --> 5 --> "
          ]
        }
      ]
    },
    {
      "cell_type": "markdown",
      "source": [
        "Part 2 – Implement Depth First Search Algorithm using a Stack."
      ],
      "metadata": {
        "id": "cL_t4s-9af66"
      }
    },
    {
      "cell_type": "code",
      "source": [
        "from collections import deque\n",
        "\n",
        "graph = {'b': ['a'],'a': ['s'],'s': ['c', 'g'],'c': ['d', 'e', 'f'],'g': ['f', 'h'],'e': ['h'],'f': [],'d': [],'h': []}\n",
        "def dfs(graph, start):\n",
        "    stack = deque([start])\n",
        "    visited = set()\n",
        "\n",
        "    while stack:\n",
        "        vertex = stack.pop()\n",
        "\n",
        "        if vertex not in visited:\n",
        "            print(vertex, end=\" --> \")\n",
        "            visited.add(vertex)\n",
        "\n",
        "            for neighbor in reversed(graph[vertex]):\n",
        "                if neighbor not in visited:\n",
        "                    stack.append(neighbor)\n",
        "\n",
        "    print(\"end\")\n",
        "\n",
        "print(\"DFS traversal of graph with source 'b' is:\")\n",
        "dfs(graph, 'b')\n"
      ],
      "metadata": {
        "colab": {
          "base_uri": "https://localhost:8080/"
        },
        "id": "1fGl-mwOajWW",
        "outputId": "86228821-a19f-43fb-957e-3cc81823bf0a"
      },
      "execution_count": 10,
      "outputs": [
        {
          "output_type": "stream",
          "name": "stdout",
          "text": [
            "DFS traversal of graph with source 'b' is:\n",
            "b --> a --> s --> c --> d --> e --> h --> f --> g --> end\n"
          ]
        }
      ]
    }
  ]
}